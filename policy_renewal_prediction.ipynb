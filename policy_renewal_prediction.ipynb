{
 "cells": [
  {
   "cell_type": "markdown",
   "metadata": {},
   "source": [
    "### Import Packages"
   ]
  },
  {
   "cell_type": "code",
   "execution_count": null,
   "metadata": {},
   "outputs": [],
   "source": [
    "import pandas as pd\n",
    "import numpy as np\n",
    "import math\n",
    "import os\n",
    "import matplotlib.pyplot as plt\n",
    "import seaborn as sns\n",
    "\n",
    "from sklearn import svm\n",
    "from sklearn.ensemble import RandomForestClassifier\n",
    "from sklearn.tree import DecisionTreeClassifier\n",
    "\n",
    "from xgboost import XGBClassifier\n",
    "import xgboost as xgb\n",
    "\n",
    "from sklearn.metrics import f1_score\n",
    "from sklearn.metrics import roc_auc_score\n",
    "from sklearn.metrics import accuracy_score\n",
    "\n",
    "from sklearn.model_selection import RandomizedSearchCV\n",
    "from sklearn.model_selection import train_test_split\n",
    "\n",
    "from scipy.optimize import fmin_tnc, differential_evolution, fmin_l_bfgs_b\n",
    "import pymonad\n"
   ]
  },
  {
   "cell_type": "code",
   "execution_count": 4,
   "metadata": {},
   "outputs": [],
   "source": [
    "data_dir = \"data/\""
   ]
  },
  {
   "cell_type": "code",
   "execution_count": 5,
   "metadata": {},
   "outputs": [
    {
     "data": {
      "text/plain": [
       "['.DS_Store', 'sample_submission.csv', 'test.csv', 'train.csv']"
      ]
     },
     "execution_count": 5,
     "metadata": {},
     "output_type": "execute_result"
    }
   ],
   "source": [
    "os.listdir(data_dir)"
   ]
  },
  {
   "cell_type": "code",
   "execution_count": 6,
   "metadata": {},
   "outputs": [],
   "source": [
    "df = pd.read_csv(data_dir + 'train.csv')"
   ]
  },
  {
   "cell_type": "code",
   "execution_count": 7,
   "metadata": {},
   "outputs": [],
   "source": [
    "test_df = pd.read_csv(data_dir + 'test.csv')\n",
    "samp_df = pd.read_csv(data_dir + 'sample_submission.csv')"
   ]
  },
  {
   "cell_type": "code",
   "execution_count": 8,
   "metadata": {},
   "outputs": [
    {
     "data": {
      "text/html": [
       "<div>\n",
       "<style scoped>\n",
       "    .dataframe tbody tr th:only-of-type {\n",
       "        vertical-align: middle;\n",
       "    }\n",
       "\n",
       "    .dataframe tbody tr th {\n",
       "        vertical-align: top;\n",
       "    }\n",
       "\n",
       "    .dataframe thead th {\n",
       "        text-align: right;\n",
       "    }\n",
       "</style>\n",
       "<table border=\"1\" class=\"dataframe\">\n",
       "  <thead>\n",
       "    <tr style=\"text-align: right;\">\n",
       "      <th></th>\n",
       "      <th>id</th>\n",
       "      <th>perc_premium_paid_by_cash_credit</th>\n",
       "      <th>age_in_days</th>\n",
       "      <th>Income</th>\n",
       "      <th>Count_3-6_months_late</th>\n",
       "      <th>Count_6-12_months_late</th>\n",
       "      <th>Count_more_than_12_months_late</th>\n",
       "      <th>application_underwriting_score</th>\n",
       "      <th>no_of_premiums_paid</th>\n",
       "      <th>sourcing_channel</th>\n",
       "      <th>residence_area_type</th>\n",
       "      <th>premium</th>\n",
       "      <th>renewal</th>\n",
       "    </tr>\n",
       "  </thead>\n",
       "  <tbody>\n",
       "    <tr>\n",
       "      <th>0</th>\n",
       "      <td>110936</td>\n",
       "      <td>0.429</td>\n",
       "      <td>12058</td>\n",
       "      <td>355060</td>\n",
       "      <td>0.0</td>\n",
       "      <td>0.0</td>\n",
       "      <td>0.0</td>\n",
       "      <td>99.02</td>\n",
       "      <td>13</td>\n",
       "      <td>C</td>\n",
       "      <td>Urban</td>\n",
       "      <td>3300</td>\n",
       "      <td>1</td>\n",
       "    </tr>\n",
       "    <tr>\n",
       "      <th>1</th>\n",
       "      <td>41492</td>\n",
       "      <td>0.010</td>\n",
       "      <td>21546</td>\n",
       "      <td>315150</td>\n",
       "      <td>0.0</td>\n",
       "      <td>0.0</td>\n",
       "      <td>0.0</td>\n",
       "      <td>99.89</td>\n",
       "      <td>21</td>\n",
       "      <td>A</td>\n",
       "      <td>Urban</td>\n",
       "      <td>18000</td>\n",
       "      <td>1</td>\n",
       "    </tr>\n",
       "    <tr>\n",
       "      <th>2</th>\n",
       "      <td>31300</td>\n",
       "      <td>0.917</td>\n",
       "      <td>17531</td>\n",
       "      <td>84140</td>\n",
       "      <td>2.0</td>\n",
       "      <td>3.0</td>\n",
       "      <td>1.0</td>\n",
       "      <td>98.69</td>\n",
       "      <td>7</td>\n",
       "      <td>C</td>\n",
       "      <td>Rural</td>\n",
       "      <td>3300</td>\n",
       "      <td>0</td>\n",
       "    </tr>\n",
       "    <tr>\n",
       "      <th>3</th>\n",
       "      <td>19415</td>\n",
       "      <td>0.049</td>\n",
       "      <td>15341</td>\n",
       "      <td>250510</td>\n",
       "      <td>0.0</td>\n",
       "      <td>0.0</td>\n",
       "      <td>0.0</td>\n",
       "      <td>99.57</td>\n",
       "      <td>9</td>\n",
       "      <td>A</td>\n",
       "      <td>Urban</td>\n",
       "      <td>9600</td>\n",
       "      <td>1</td>\n",
       "    </tr>\n",
       "    <tr>\n",
       "      <th>4</th>\n",
       "      <td>99379</td>\n",
       "      <td>0.052</td>\n",
       "      <td>31400</td>\n",
       "      <td>198680</td>\n",
       "      <td>0.0</td>\n",
       "      <td>0.0</td>\n",
       "      <td>0.0</td>\n",
       "      <td>99.87</td>\n",
       "      <td>12</td>\n",
       "      <td>B</td>\n",
       "      <td>Urban</td>\n",
       "      <td>9600</td>\n",
       "      <td>1</td>\n",
       "    </tr>\n",
       "  </tbody>\n",
       "</table>\n",
       "</div>"
      ],
      "text/plain": [
       "       id  perc_premium_paid_by_cash_credit  age_in_days  Income  \\\n",
       "0  110936                             0.429        12058  355060   \n",
       "1   41492                             0.010        21546  315150   \n",
       "2   31300                             0.917        17531   84140   \n",
       "3   19415                             0.049        15341  250510   \n",
       "4   99379                             0.052        31400  198680   \n",
       "\n",
       "   Count_3-6_months_late  Count_6-12_months_late  \\\n",
       "0                    0.0                     0.0   \n",
       "1                    0.0                     0.0   \n",
       "2                    2.0                     3.0   \n",
       "3                    0.0                     0.0   \n",
       "4                    0.0                     0.0   \n",
       "\n",
       "   Count_more_than_12_months_late  application_underwriting_score  \\\n",
       "0                             0.0                           99.02   \n",
       "1                             0.0                           99.89   \n",
       "2                             1.0                           98.69   \n",
       "3                             0.0                           99.57   \n",
       "4                             0.0                           99.87   \n",
       "\n",
       "   no_of_premiums_paid sourcing_channel residence_area_type  premium  renewal  \n",
       "0                   13                C               Urban     3300        1  \n",
       "1                   21                A               Urban    18000        1  \n",
       "2                    7                C               Rural     3300        0  \n",
       "3                    9                A               Urban     9600        1  \n",
       "4                   12                B               Urban     9600        1  "
      ]
     },
     "execution_count": 8,
     "metadata": {},
     "output_type": "execute_result"
    }
   ],
   "source": [
    "df.head()"
   ]
  },
  {
   "cell_type": "code",
   "execution_count": 9,
   "metadata": {},
   "outputs": [
    {
     "data": {
      "text/html": [
       "<div>\n",
       "<style scoped>\n",
       "    .dataframe tbody tr th:only-of-type {\n",
       "        vertical-align: middle;\n",
       "    }\n",
       "\n",
       "    .dataframe tbody tr th {\n",
       "        vertical-align: top;\n",
       "    }\n",
       "\n",
       "    .dataframe thead th {\n",
       "        text-align: right;\n",
       "    }\n",
       "</style>\n",
       "<table border=\"1\" class=\"dataframe\">\n",
       "  <thead>\n",
       "    <tr style=\"text-align: right;\">\n",
       "      <th></th>\n",
       "      <th>id</th>\n",
       "      <th>perc_premium_paid_by_cash_credit</th>\n",
       "      <th>age_in_days</th>\n",
       "      <th>Income</th>\n",
       "      <th>Count_3-6_months_late</th>\n",
       "      <th>Count_6-12_months_late</th>\n",
       "      <th>Count_more_than_12_months_late</th>\n",
       "      <th>application_underwriting_score</th>\n",
       "      <th>no_of_premiums_paid</th>\n",
       "      <th>sourcing_channel</th>\n",
       "      <th>residence_area_type</th>\n",
       "      <th>premium</th>\n",
       "    </tr>\n",
       "  </thead>\n",
       "  <tbody>\n",
       "    <tr>\n",
       "      <th>0</th>\n",
       "      <td>649</td>\n",
       "      <td>0.001</td>\n",
       "      <td>27384</td>\n",
       "      <td>51150</td>\n",
       "      <td>0.0</td>\n",
       "      <td>0.0</td>\n",
       "      <td>0.0</td>\n",
       "      <td>99.89</td>\n",
       "      <td>7</td>\n",
       "      <td>A</td>\n",
       "      <td>Rural</td>\n",
       "      <td>3300</td>\n",
       "    </tr>\n",
       "    <tr>\n",
       "      <th>1</th>\n",
       "      <td>81136</td>\n",
       "      <td>0.124</td>\n",
       "      <td>23735</td>\n",
       "      <td>285140</td>\n",
       "      <td>0.0</td>\n",
       "      <td>0.0</td>\n",
       "      <td>0.0</td>\n",
       "      <td>98.93</td>\n",
       "      <td>19</td>\n",
       "      <td>A</td>\n",
       "      <td>Urban</td>\n",
       "      <td>11700</td>\n",
       "    </tr>\n",
       "    <tr>\n",
       "      <th>2</th>\n",
       "      <td>70762</td>\n",
       "      <td>1.000</td>\n",
       "      <td>17170</td>\n",
       "      <td>186030</td>\n",
       "      <td>0.0</td>\n",
       "      <td>0.0</td>\n",
       "      <td>0.0</td>\n",
       "      <td>NaN</td>\n",
       "      <td>2</td>\n",
       "      <td>B</td>\n",
       "      <td>Urban</td>\n",
       "      <td>11700</td>\n",
       "    </tr>\n",
       "    <tr>\n",
       "      <th>3</th>\n",
       "      <td>53935</td>\n",
       "      <td>0.198</td>\n",
       "      <td>16068</td>\n",
       "      <td>123540</td>\n",
       "      <td>0.0</td>\n",
       "      <td>0.0</td>\n",
       "      <td>0.0</td>\n",
       "      <td>99.00</td>\n",
       "      <td>11</td>\n",
       "      <td>B</td>\n",
       "      <td>Rural</td>\n",
       "      <td>5400</td>\n",
       "    </tr>\n",
       "    <tr>\n",
       "      <th>4</th>\n",
       "      <td>15476</td>\n",
       "      <td>0.041</td>\n",
       "      <td>10591</td>\n",
       "      <td>200020</td>\n",
       "      <td>1.0</td>\n",
       "      <td>0.0</td>\n",
       "      <td>0.0</td>\n",
       "      <td>99.17</td>\n",
       "      <td>14</td>\n",
       "      <td>A</td>\n",
       "      <td>Rural</td>\n",
       "      <td>9600</td>\n",
       "    </tr>\n",
       "  </tbody>\n",
       "</table>\n",
       "</div>"
      ],
      "text/plain": [
       "      id  perc_premium_paid_by_cash_credit  age_in_days  Income  \\\n",
       "0    649                             0.001        27384   51150   \n",
       "1  81136                             0.124        23735  285140   \n",
       "2  70762                             1.000        17170  186030   \n",
       "3  53935                             0.198        16068  123540   \n",
       "4  15476                             0.041        10591  200020   \n",
       "\n",
       "   Count_3-6_months_late  Count_6-12_months_late  \\\n",
       "0                    0.0                     0.0   \n",
       "1                    0.0                     0.0   \n",
       "2                    0.0                     0.0   \n",
       "3                    0.0                     0.0   \n",
       "4                    1.0                     0.0   \n",
       "\n",
       "   Count_more_than_12_months_late  application_underwriting_score  \\\n",
       "0                             0.0                           99.89   \n",
       "1                             0.0                           98.93   \n",
       "2                             0.0                             NaN   \n",
       "3                             0.0                           99.00   \n",
       "4                             0.0                           99.17   \n",
       "\n",
       "   no_of_premiums_paid sourcing_channel residence_area_type  premium  \n",
       "0                    7                A               Rural     3300  \n",
       "1                   19                A               Urban    11700  \n",
       "2                    2                B               Urban    11700  \n",
       "3                   11                B               Rural     5400  \n",
       "4                   14                A               Rural     9600  "
      ]
     },
     "execution_count": 9,
     "metadata": {},
     "output_type": "execute_result"
    }
   ],
   "source": [
    "test_df.head()"
   ]
  },
  {
   "cell_type": "code",
   "execution_count": 10,
   "metadata": {},
   "outputs": [
    {
     "data": {
      "text/plain": [
       "1    74855\n",
       "0     4998\n",
       "Name: renewal, dtype: int64"
      ]
     },
     "execution_count": 10,
     "metadata": {},
     "output_type": "execute_result"
    }
   ],
   "source": [
    "df[\"renewal\"].value_counts()"
   ]
  },
  {
   "cell_type": "code",
   "execution_count": 11,
   "metadata": {},
   "outputs": [],
   "source": [
    "class_wt = 4998.0/74855"
   ]
  },
  {
   "cell_type": "code",
   "execution_count": 12,
   "metadata": {},
   "outputs": [
    {
     "data": {
      "text/plain": [
       "count    4998.000000\n",
       "mean       10.410364\n",
       "std         5.784630\n",
       "min         2.000000\n",
       "25%         6.000000\n",
       "50%        10.000000\n",
       "75%        14.000000\n",
       "max        59.000000\n",
       "Name: no_of_premiums_paid, dtype: float64"
      ]
     },
     "execution_count": 12,
     "metadata": {},
     "output_type": "execute_result"
    }
   ],
   "source": [
    "df[df[\"renewal\"]==0]['no_of_premiums_paid'].describe()"
   ]
  },
  {
   "cell_type": "code",
   "execution_count": 13,
   "metadata": {},
   "outputs": [
    {
     "data": {
      "text/plain": [
       "count    74855.000000\n",
       "mean        10.894169\n",
       "std          5.125691\n",
       "min          2.000000\n",
       "25%          7.000000\n",
       "50%         10.000000\n",
       "75%         14.000000\n",
       "max         60.000000\n",
       "Name: no_of_premiums_paid, dtype: float64"
      ]
     },
     "execution_count": 13,
     "metadata": {},
     "output_type": "execute_result"
    }
   ],
   "source": [
    "df[df[\"renewal\"]==1]['no_of_premiums_paid'].describe()"
   ]
  },
  {
   "cell_type": "code",
   "execution_count": 14,
   "metadata": {},
   "outputs": [
    {
     "data": {
      "text/plain": [
       "count    79853.000000\n",
       "mean        10.863887\n",
       "std          5.170687\n",
       "min          2.000000\n",
       "25%          7.000000\n",
       "50%         10.000000\n",
       "75%         14.000000\n",
       "max         60.000000\n",
       "Name: no_of_premiums_paid, dtype: float64"
      ]
     },
     "execution_count": 14,
     "metadata": {},
     "output_type": "execute_result"
    }
   ],
   "source": [
    "df['no_of_premiums_paid'].describe()"
   ]
  },
  {
   "cell_type": "code",
   "execution_count": 15,
   "metadata": {},
   "outputs": [],
   "source": [
    "df['age_in_years'] = df['age_in_days'].apply(lambda x: x/365)"
   ]
  },
  {
   "cell_type": "code",
   "execution_count": 16,
   "metadata": {},
   "outputs": [],
   "source": [
    "test_df['age_in_years'] = test_df['age_in_days'].apply(lambda x: x/365)"
   ]
  },
  {
   "cell_type": "code",
   "execution_count": 17,
   "metadata": {},
   "outputs": [
    {
     "data": {
      "text/plain": [
       "((76855, 14), (79853, 14))"
      ]
     },
     "execution_count": 17,
     "metadata": {},
     "output_type": "execute_result"
    }
   ],
   "source": [
    "df.dropna().shape, df.shape"
   ]
  },
  {
   "cell_type": "code",
   "execution_count": 18,
   "metadata": {},
   "outputs": [
    {
     "data": {
      "text/plain": [
       "count    79853.000000\n",
       "mean        51.607404\n",
       "std         14.270484\n",
       "min         21.000000\n",
       "25%         41.000000\n",
       "50%         51.000000\n",
       "75%         62.000000\n",
       "max        103.000000\n",
       "Name: age_in_years, dtype: float64"
      ]
     },
     "execution_count": 18,
     "metadata": {},
     "output_type": "execute_result"
    }
   ],
   "source": [
    "df['age_in_years'].describe()"
   ]
  },
  {
   "cell_type": "code",
   "execution_count": 19,
   "metadata": {},
   "outputs": [],
   "source": [
    "df1 = pd.get_dummies(df)"
   ]
  },
  {
   "cell_type": "code",
   "execution_count": 20,
   "metadata": {},
   "outputs": [],
   "source": [
    "test_df1 = pd.get_dummies(test_df)"
   ]
  },
  {
   "cell_type": "code",
   "execution_count": 21,
   "metadata": {},
   "outputs": [
    {
     "data": {
      "text/plain": [
       "(34224, 18)"
      ]
     },
     "execution_count": 21,
     "metadata": {},
     "output_type": "execute_result"
    }
   ],
   "source": [
    "test_df1.shape"
   ]
  },
  {
   "cell_type": "code",
   "execution_count": 22,
   "metadata": {},
   "outputs": [
    {
     "data": {
      "text/plain": [
       "(79853, 19)"
      ]
     },
     "execution_count": 22,
     "metadata": {},
     "output_type": "execute_result"
    }
   ],
   "source": [
    "df1.shape"
   ]
  },
  {
   "cell_type": "code",
   "execution_count": 25,
   "metadata": {},
   "outputs": [
    {
     "data": {
      "text/plain": [
       "Index([u'id', u'perc_premium_paid_by_cash_credit', u'age_in_days', u'Income',\n",
       "       u'Count_3-6_months_late', u'Count_6-12_months_late',\n",
       "       u'Count_more_than_12_months_late', u'application_underwriting_score',\n",
       "       u'no_of_premiums_paid', u'premium', u'renewal', u'age_in_years',\n",
       "       u'sourcing_channel_A', u'sourcing_channel_B', u'sourcing_channel_C',\n",
       "       u'sourcing_channel_D', u'sourcing_channel_E',\n",
       "       u'residence_area_type_Rural', u'residence_area_type_Urban'],\n",
       "      dtype='object')"
      ]
     },
     "execution_count": 25,
     "metadata": {},
     "output_type": "execute_result"
    }
   ],
   "source": [
    "df1.columns"
   ]
  },
  {
   "cell_type": "code",
   "execution_count": 30,
   "metadata": {},
   "outputs": [],
   "source": [
    "# feature_cols = df1.columns - ['id', 'renewal', 'age_in_days', 'Income', 'premium_log', 'age_bin', 'age_in_years']\n",
    "feature_cols = list(set(df1.columns) - set(['id', 'renewal', 'age_in_days']))"
   ]
  },
  {
   "cell_type": "code",
   "execution_count": 31,
   "metadata": {},
   "outputs": [
    {
     "data": {
      "text/plain": [
       "['premium',\n",
       " 'sourcing_channel_E',\n",
       " 'sourcing_channel_D',\n",
       " 'age_in_years',\n",
       " 'sourcing_channel_A',\n",
       " 'sourcing_channel_C',\n",
       " 'sourcing_channel_B',\n",
       " 'application_underwriting_score',\n",
       " 'residence_area_type_Urban',\n",
       " 'Count_6-12_months_late',\n",
       " 'Income',\n",
       " 'Count_more_than_12_months_late',\n",
       " 'Count_3-6_months_late',\n",
       " 'perc_premium_paid_by_cash_credit',\n",
       " 'no_of_premiums_paid',\n",
       " 'residence_area_type_Rural']"
      ]
     },
     "execution_count": 31,
     "metadata": {},
     "output_type": "execute_result"
    }
   ],
   "source": [
    "feature_cols"
   ]
  },
  {
   "cell_type": "code",
   "execution_count": 24,
   "metadata": {},
   "outputs": [],
   "source": [
    "# xgb1 = XGBClassifier(\n",
    "#     learning_rate =0.1, n_estimators=1000,\n",
    "#     max_depth=8, min_child_weight=1, gamma=0,subsample=0.8,colsample_bytree=0.8,\n",
    "#     objective= 'binary:logistic', n_jobs=4,scale_pos_weight=1,seed=27, missing=np.nan)"
   ]
  },
  {
   "cell_type": "code",
   "execution_count": 25,
   "metadata": {},
   "outputs": [],
   "source": [
    "# xgb1.fit(train_df[feature_cols], train_df['renewal'])"
   ]
  },
  {
   "cell_type": "code",
   "execution_count": 26,
   "metadata": {
    "collapsed": true
   },
   "outputs": [],
   "source": [
    "# params = {'eta1': 0.02, 'max_depth': 5, 'subsample': 0.8, 'colsample_bytree': 0.8, 'objective': 'binary:logistic', 'seed': 99, 'silent': 0, 'eval_metric':'auc', 'n_jobs':4}\n"
   ]
  },
  {
   "cell_type": "code",
   "execution_count": 27,
   "metadata": {
    "collapsed": true
   },
   "outputs": [],
   "source": [
    "#  scale_pos_weight=class_wt"
   ]
  },
  {
   "cell_type": "code",
   "execution_count": 35,
   "metadata": {},
   "outputs": [],
   "source": [
    "xgb1 = XGBClassifier(\n",
    "    learning_rate=0.01, \n",
    "    n_estimators=400,\n",
    "    max_depth=5,\n",
    "    min_child_weight=1,\n",
    "    gamma=0,\n",
    "    subsample=0.7,\n",
    "    colsample_bytree=0.7,\n",
    "    objective='binary:logistic',\n",
    "    n_jobs=-1,\n",
    "    seed=99, \n",
    "#     scale_pos_weight=class_wt,\n",
    "    missing=np.nan, \n",
    "    nthread=4, \n",
    "    eval_metric='auc'\n",
    ")"
   ]
  },
  {
   "cell_type": "code",
   "execution_count": 36,
   "metadata": {},
   "outputs": [],
   "source": [
    "# A parameter grid for XGBoost\n",
    "random_grid = {\n",
    "        'min_child_weight': [1, 5, 10],\n",
    "        'gamma': [0.5, 1, 1.5, 2, 5],\n",
    "        'subsample': [0.6, 0.7, 0.8],\n",
    "        'colsample_bytree': [0.6, 0.7, 0.8],\n",
    "        'max_depth': [5, 6, 7]\n",
    "        }"
   ]
  },
  {
   "cell_type": "code",
   "execution_count": null,
   "metadata": {},
   "outputs": [
    {
     "name": "stdout",
     "output_type": "stream",
     "text": [
      "Fitting 3 folds for each of 20 candidates, totalling 60 fits\n",
      "[CV] subsample=0.7, colsample_bytree=0.6, max_depth=6, gamma=1.5, min_child_weight=10 \n",
      "[CV] subsample=0.7, colsample_bytree=0.6, max_depth=6, gamma=1.5, min_child_weight=10 \n",
      "[CV] subsample=0.7, colsample_bytree=0.6, max_depth=6, gamma=1.5, min_child_weight=10 \n",
      "[CV] subsample=0.8, colsample_bytree=0.7, max_depth=5, gamma=2, min_child_weight=1 \n",
      "[CV]  subsample=0.8, colsample_bytree=0.7, max_depth=5, gamma=2, min_child_weight=1, total=  31.6s\n",
      "[CV] subsample=0.8, colsample_bytree=0.7, max_depth=5, gamma=2, min_child_weight=1 \n",
      "[CV]  subsample=0.7, colsample_bytree=0.6, max_depth=6, gamma=1.5, min_child_weight=10, total=  32.8s\n",
      "[CV]  subsample=0.7, colsample_bytree=0.6, max_depth=6, gamma=1.5, min_child_weight=10, total=  32.8s\n",
      "[CV] subsample=0.8, colsample_bytree=0.7, max_depth=5, gamma=2, min_child_weight=1 \n",
      "[CV] subsample=0.7, colsample_bytree=0.8, max_depth=5, gamma=5, min_child_weight=10 \n",
      "[CV]  subsample=0.7, colsample_bytree=0.6, max_depth=6, gamma=1.5, min_child_weight=10, total=  32.9s\n",
      "[CV] subsample=0.7, colsample_bytree=0.8, max_depth=5, gamma=5, min_child_weight=10 \n",
      "[CV]  subsample=0.8, colsample_bytree=0.7, max_depth=5, gamma=2, min_child_weight=1, total=  32.3s\n",
      "[CV] subsample=0.7, colsample_bytree=0.8, max_depth=5, gamma=5, min_child_weight=10 \n",
      "[CV]  subsample=0.8, colsample_bytree=0.7, max_depth=5, gamma=2, min_child_weight=1, total=  32.7s\n",
      "[CV] subsample=0.6, colsample_bytree=0.6, max_depth=5, gamma=1, min_child_weight=10 \n",
      "[CV]  subsample=0.7, colsample_bytree=0.8, max_depth=5, gamma=5, min_child_weight=10, total=  34.0s\n",
      "[CV] subsample=0.6, colsample_bytree=0.6, max_depth=5, gamma=1, min_child_weight=10 \n",
      "[CV]  subsample=0.7, colsample_bytree=0.8, max_depth=5, gamma=5, min_child_weight=10, total=  34.1s\n",
      "[CV] subsample=0.6, colsample_bytree=0.6, max_depth=5, gamma=1, min_child_weight=10 \n",
      "[CV]  subsample=0.6, colsample_bytree=0.6, max_depth=5, gamma=1, min_child_weight=10, total=  28.2s\n",
      "[CV] subsample=0.6, colsample_bytree=0.6, max_depth=6, gamma=1, min_child_weight=10 \n",
      "[CV]  subsample=0.6, colsample_bytree=0.6, max_depth=5, gamma=1, min_child_weight=10, total=  28.7s\n",
      "[CV]  subsample=0.7, colsample_bytree=0.8, max_depth=5, gamma=5, min_child_weight=10, total=  32.4s\n",
      "[CV]  subsample=0.6, colsample_bytree=0.6, max_depth=5, gamma=1, min_child_weight=10, total=  28.8s\n",
      "[CV] subsample=0.6, colsample_bytree=0.6, max_depth=6, gamma=1, min_child_weight=10 \n",
      "[CV] subsample=0.6, colsample_bytree=0.6, max_depth=6, gamma=1, min_child_weight=10 \n",
      "[CV] subsample=0.8, colsample_bytree=0.6, max_depth=7, gamma=1.5, min_child_weight=5 \n",
      "[CV]  subsample=0.6, colsample_bytree=0.6, max_depth=6, gamma=1, min_child_weight=10, total=  33.3s\n",
      "[CV] subsample=0.8, colsample_bytree=0.6, max_depth=7, gamma=1.5, min_child_weight=5 \n",
      "[CV]  subsample=0.6, colsample_bytree=0.6, max_depth=6, gamma=1, min_child_weight=10, total=  34.0s\n",
      "[CV] subsample=0.8, colsample_bytree=0.6, max_depth=7, gamma=1.5, min_child_weight=5 \n",
      "[CV]  subsample=0.6, colsample_bytree=0.6, max_depth=6, gamma=1, min_child_weight=10, total=  34.4s\n",
      "[CV] subsample=0.8, colsample_bytree=0.7, max_depth=5, gamma=0.5, min_child_weight=1 \n",
      "[CV]  subsample=0.8, colsample_bytree=0.6, max_depth=7, gamma=1.5, min_child_weight=5, total=  36.6s\n",
      "[CV] subsample=0.8, colsample_bytree=0.7, max_depth=5, gamma=0.5, min_child_weight=1 \n",
      "[CV]  subsample=0.8, colsample_bytree=0.7, max_depth=5, gamma=0.5, min_child_weight=1, total=  30.3s\n",
      "[CV] subsample=0.8, colsample_bytree=0.7, max_depth=5, gamma=0.5, min_child_weight=1 \n",
      "[CV]  subsample=0.8, colsample_bytree=0.7, max_depth=5, gamma=0.5, min_child_weight=1, total=  29.0s\n",
      "[CV] subsample=0.8, colsample_bytree=0.8, max_depth=5, gamma=1.5, min_child_weight=10 \n",
      "[CV]  subsample=0.8, colsample_bytree=0.6, max_depth=7, gamma=1.5, min_child_weight=5, total=  35.5s\n",
      "[CV] subsample=0.8, colsample_bytree=0.8, max_depth=5, gamma=1.5, min_child_weight=10 \n",
      "[CV]  subsample=0.8, colsample_bytree=0.6, max_depth=7, gamma=1.5, min_child_weight=5, total=  35.8s\n",
      "[CV] subsample=0.8, colsample_bytree=0.8, max_depth=5, gamma=1.5, min_child_weight=10 \n",
      "[CV]  subsample=0.8, colsample_bytree=0.7, max_depth=5, gamma=0.5, min_child_weight=1, total=  29.9s\n",
      "[CV] subsample=0.7, colsample_bytree=0.8, max_depth=6, gamma=2, min_child_weight=5 \n",
      "[CV]  subsample=0.8, colsample_bytree=0.8, max_depth=5, gamma=1.5, min_child_weight=10, total=  33.5s\n",
      "[CV] subsample=0.7, colsample_bytree=0.8, max_depth=6, gamma=2, min_child_weight=5 \n",
      "[CV]  subsample=0.8, colsample_bytree=0.8, max_depth=5, gamma=1.5, min_child_weight=10, total=  33.7s\n",
      "[CV] subsample=0.7, colsample_bytree=0.8, max_depth=6, gamma=2, min_child_weight=5 \n",
      "[CV]  subsample=0.8, colsample_bytree=0.8, max_depth=5, gamma=1.5, min_child_weight=10, total=  33.0s\n",
      "[CV] subsample=0.7, colsample_bytree=0.7, max_depth=7, gamma=5, min_child_weight=5 \n",
      "[CV]  subsample=0.7, colsample_bytree=0.8, max_depth=6, gamma=2, min_child_weight=5, total=  38.1s\n",
      "[CV] subsample=0.7, colsample_bytree=0.7, max_depth=7, gamma=5, min_child_weight=5 \n",
      "[CV]  subsample=0.7, colsample_bytree=0.8, max_depth=6, gamma=2, min_child_weight=5, total=  39.3s\n",
      "[CV] subsample=0.7, colsample_bytree=0.7, max_depth=7, gamma=5, min_child_weight=5 \n",
      "[CV]  subsample=0.7, colsample_bytree=0.8, max_depth=6, gamma=2, min_child_weight=5, total=  39.3s\n",
      "[CV] subsample=0.8, colsample_bytree=0.8, max_depth=6, gamma=2, min_child_weight=5 \n",
      "[CV]  subsample=0.7, colsample_bytree=0.7, max_depth=7, gamma=5, min_child_weight=5, total=  41.3s\n",
      "[CV] subsample=0.8, colsample_bytree=0.8, max_depth=6, gamma=2, min_child_weight=5 \n",
      "[CV]  subsample=0.7, colsample_bytree=0.7, max_depth=7, gamma=5, min_child_weight=5, total=  42.2s\n",
      "[CV]  subsample=0.8, colsample_bytree=0.8, max_depth=6, gamma=2, min_child_weight=5, total=  39.7s\n",
      "[CV] subsample=0.8, colsample_bytree=0.8, max_depth=6, gamma=2, min_child_weight=5 \n",
      "[CV] subsample=0.6, colsample_bytree=0.6, max_depth=7, gamma=1.5, min_child_weight=10 \n",
      "[CV]  subsample=0.7, colsample_bytree=0.7, max_depth=7, gamma=5, min_child_weight=5, total=  42.9s\n",
      "[CV] subsample=0.6, colsample_bytree=0.6, max_depth=7, gamma=1.5, min_child_weight=10 \n",
      "[CV]  subsample=0.8, colsample_bytree=0.8, max_depth=6, gamma=2, min_child_weight=5, total=  38.0s\n",
      "[CV] subsample=0.6, colsample_bytree=0.6, max_depth=7, gamma=1.5, min_child_weight=10 \n",
      "[CV]  subsample=0.8, colsample_bytree=0.8, max_depth=6, gamma=2, min_child_weight=5, total=  38.9s\n",
      "[CV]  subsample=0.6, colsample_bytree=0.6, max_depth=7, gamma=1.5, min_child_weight=10, total=  38.0s\n",
      "[CV] subsample=0.7, colsample_bytree=0.8, max_depth=6, gamma=0.5, min_child_weight=5 \n",
      "[CV] subsample=0.7, colsample_bytree=0.8, max_depth=6, gamma=0.5, min_child_weight=5 \n"
     ]
    },
    {
     "name": "stderr",
     "output_type": "stream",
     "text": [
      "[Parallel(n_jobs=-1)]: Done  33 tasks      | elapsed:  5.8min\n"
     ]
    },
    {
     "name": "stdout",
     "output_type": "stream",
     "text": [
      "[CV]  subsample=0.6, colsample_bytree=0.6, max_depth=7, gamma=1.5, min_child_weight=10, total=  38.1s\n",
      "[CV]  subsample=0.6, colsample_bytree=0.6, max_depth=7, gamma=1.5, min_child_weight=10, total=  38.2s\n",
      "[CV] subsample=0.7, colsample_bytree=0.8, max_depth=6, gamma=0.5, min_child_weight=5 \n",
      "[CV] subsample=0.6, colsample_bytree=0.8, max_depth=6, gamma=5, min_child_weight=1 \n",
      "[CV]  subsample=0.7, colsample_bytree=0.8, max_depth=6, gamma=0.5, min_child_weight=5, total=  38.9s\n",
      "[CV]  subsample=0.7, colsample_bytree=0.8, max_depth=6, gamma=0.5, min_child_weight=5, total=  39.4s\n",
      "[CV] subsample=0.6, colsample_bytree=0.8, max_depth=6, gamma=5, min_child_weight=1 \n",
      "[CV] subsample=0.6, colsample_bytree=0.8, max_depth=6, gamma=5, min_child_weight=1 \n",
      "[CV]  subsample=0.7, colsample_bytree=0.8, max_depth=6, gamma=0.5, min_child_weight=5, total=  38.9s\n",
      "[CV] subsample=0.8, colsample_bytree=0.7, max_depth=7, gamma=0.5, min_child_weight=1 \n",
      "[CV]  subsample=0.6, colsample_bytree=0.8, max_depth=6, gamma=5, min_child_weight=1, total=  39.5s\n",
      "[CV] subsample=0.8, colsample_bytree=0.7, max_depth=7, gamma=0.5, min_child_weight=1 \n",
      "[CV]  subsample=0.6, colsample_bytree=0.8, max_depth=6, gamma=5, min_child_weight=1, total=  41.0s\n",
      "[CV]  subsample=0.6, colsample_bytree=0.8, max_depth=6, gamma=5, min_child_weight=1, total=  41.5s\n",
      "[CV] subsample=0.8, colsample_bytree=0.7, max_depth=7, gamma=0.5, min_child_weight=1 \n",
      "[CV] subsample=0.6, colsample_bytree=0.7, max_depth=6, gamma=5, min_child_weight=5 \n",
      "[CV]  subsample=0.8, colsample_bytree=0.7, max_depth=7, gamma=0.5, min_child_weight=1, total=  42.9s\n",
      "[CV]  subsample=0.8, colsample_bytree=0.7, max_depth=7, gamma=0.5, min_child_weight=1, total=  43.3s\n",
      "[CV] subsample=0.6, colsample_bytree=0.7, max_depth=6, gamma=5, min_child_weight=5 \n",
      "[CV] subsample=0.6, colsample_bytree=0.7, max_depth=6, gamma=5, min_child_weight=5 \n",
      "[CV]  subsample=0.6, colsample_bytree=0.7, max_depth=6, gamma=5, min_child_weight=5, total=  37.4s\n",
      "[CV] subsample=0.6, colsample_bytree=0.7, max_depth=6, gamma=1, min_child_weight=10 \n",
      "[CV]  subsample=0.6, colsample_bytree=0.7, max_depth=6, gamma=5, min_child_weight=5, total=  38.2s\n",
      "[CV] subsample=0.6, colsample_bytree=0.7, max_depth=6, gamma=1, min_child_weight=10 \n",
      "[CV]  subsample=0.6, colsample_bytree=0.7, max_depth=6, gamma=5, min_child_weight=5, total=  38.3s\n",
      "[CV] subsample=0.6, colsample_bytree=0.7, max_depth=6, gamma=1, min_child_weight=10 \n",
      "[CV]  subsample=0.8, colsample_bytree=0.7, max_depth=7, gamma=0.5, min_child_weight=1, total=  42.3s\n",
      "[CV] subsample=0.7, colsample_bytree=0.8, max_depth=5, gamma=2, min_child_weight=1 \n"
     ]
    }
   ],
   "source": [
    "xgb_random = RandomizedSearchCV(estimator = xgb1, param_distributions = random_grid, n_iter = 20, cv = 3, verbose=2, random_state=42, n_jobs = -1, scoring='roc_auc')\n",
    "xgb_random.fit(df1[feature_cols], df1[\"renewal\"])"
   ]
  },
  {
   "cell_type": "code",
   "execution_count": null,
   "metadata": {},
   "outputs": [],
   "source": [
    "xgb_random.best_params_"
   ]
  },
  {
   "cell_type": "code",
   "execution_count": null,
   "metadata": {},
   "outputs": [],
   "source": [
    "xgb_random.best_score_"
   ]
  },
  {
   "cell_type": "code",
   "execution_count": null,
   "metadata": {},
   "outputs": [],
   "source": [
    "n_folds = 5\n",
    "early_stopping = 50\n",
    "\n",
    "xg_train = xgb.DMatrix(df1[feature_cols], label=df1[\"renewal\"])\n",
    "cv = xgb.cv(xgb1.get_params(), xg_train, 2000, nfold=n_folds, early_stopping_rounds=early_stopping, verbose_eval=1)"
   ]
  },
  {
   "cell_type": "code",
   "execution_count": null,
   "metadata": {},
   "outputs": [],
   "source": [
    "cv.shape[0]"
   ]
  },
  {
   "cell_type": "code",
   "execution_count": null,
   "metadata": {},
   "outputs": [],
   "source": [
    "# df[\"boost_pred\"] = xgb1.predict(val_df[feature_cols])\n",
    "xgb1.set_params(n_estimators=cv.shape[0])\n",
    "# xgb1.set_params(n_estimators=390)"
   ]
  },
  {
   "cell_type": "code",
   "execution_count": null,
   "metadata": {},
   "outputs": [],
   "source": [
    "xgb1.fit(df1[feature_cols], df1[\"renewal\"], eval_metric=\"auc\")"
   ]
  },
  {
   "cell_type": "code",
   "execution_count": null,
   "metadata": {},
   "outputs": [],
   "source": [
    "# train_pred = xgb1.predict_proba(train_df[feature_cols])\n",
    "# val_pred = xgb1.predict_proba(val_df[feature_cols])\n",
    "# train_renewal_prob = map(lambda p: p[1], train_pred)\n",
    "# val_renewal_prob = map(lambda p: p[1], val_pred)"
   ]
  },
  {
   "cell_type": "code",
   "execution_count": null,
   "metadata": {},
   "outputs": [],
   "source": [
    "test_pred = xgb1.predict_proba(test_df1[feature_cols])\n",
    "test_df1[\"renewal\"] = map(lambda p: p[1], test_pred)"
   ]
  },
  {
   "cell_type": "code",
   "execution_count": null,
   "metadata": {},
   "outputs": [],
   "source": [
    "# val_auc = roc_auc_score(val_df[\"renewal\"], val_renewal_prob)\n",
    "# train_auc = roc_auc_score(train_df[\"renewal\"], train_renewal_prob)\n",
    "# val_auc, train_auc"
   ]
  },
  {
   "cell_type": "code",
   "execution_count": null,
   "metadata": {},
   "outputs": [],
   "source": [
    "def inc_to_delta_prob(inc):\n",
    "    return effort_to_delta_prob(inc_to_efforts(inc))\n",
    "\n",
    "def inc_to_efforts(inc):\n",
    "    return 10*(1 - math.exp(-inc*1.0/400))\n",
    "\n",
    "def effort_to_delta_prob(effort):\n",
    "    return 20*(1 - math.exp(-effort*1.0/5))"
   ]
  },
  {
   "cell_type": "code",
   "execution_count": 42,
   "metadata": {},
   "outputs": [],
   "source": [
    "eps = 1e-6\n",
    "\n",
    "@pymonad.curry\n",
    "def grad_rev_inc(prem, x):\n",
    "    return -(40*prem*math.exp(-2*x) - 400.0/(1-x))\n",
    "\n",
    "@pymonad.curry\n",
    "def rev_inc(prem, x):\n",
    "    val = -(20*prem*(1 - math.exp(-2*x)) + 400*math.log(1 - x))\n",
    "    return val\n",
    "\n",
    "def get_incentive(effort):\n",
    "    return -400*math.log(1-effort/10.0)\n",
    "\n",
    "def get_incentive_for_policy(prob_renewal, premium):\n",
    "    max_delta_p = 100*(1 - prob_renewal)\n",
    "    max_delta_p = min(max_delta_p, 20-eps)\n",
    "    incentive = 0\n",
    "    if max_delta_p > 0:\n",
    "        max_effort_needed = -5*math.log(1 - max_delta_p/20.0)\n",
    "        max_effort_needed = min(max_effort_needed, 10-eps)\n",
    "        bounds = [(eps, max_effort_needed/10.0)]\n",
    "        res = fmin_l_bfgs_b(rev_inc(premium), 0.2, fprime=grad_rev_inc(premium), bounds=bounds, pgtol=1e-8)\n",
    "        effort = res[0][0]*10\n",
    "        incentive = get_incentive(effort)\n",
    "        if max_delta_p * premium > incentive:\n",
    "            return incentive\n",
    "    return 0"
   ]
  },
  {
   "cell_type": "code",
   "execution_count": null,
   "metadata": {},
   "outputs": [],
   "source": [
    "# test_df1"
   ]
  },
  {
   "cell_type": "code",
   "execution_count": 43,
   "metadata": {},
   "outputs": [],
   "source": [
    "test_df1['incentives1'] = test_df1.apply(lambda row: get_incentive_for_policy(row[\"renewal\"], row[\"premium\"]), axis=1)"
   ]
  },
  {
   "cell_type": "code",
   "execution_count": 53,
   "metadata": {},
   "outputs": [],
   "source": [
    "samp_df.head(2)"
   ]
  },
  {
   "cell_type": "code",
   "execution_count": 45,
   "metadata": {},
   "outputs": [],
   "source": [
    "test_df1[[\"id\", \"pred\", \"incentives\"]].shape"
   ]
  },
  {
   "cell_type": "code",
   "execution_count": 52,
   "metadata": {},
   "outputs": [],
   "source": [
    "test_df1 = test_df1.rename(columns={\"pred\": \"renewal\"})"
   ]
  },
  {
   "cell_type": "code",
   "execution_count": null,
   "metadata": {},
   "outputs": [],
   "source": [
    "sum(test_df1[\"incentives\"])"
   ]
  },
  {
   "cell_type": "code",
   "execution_count": 64,
   "metadata": {
    "collapsed": true
   },
   "outputs": [],
   "source": []
  },
  {
   "cell_type": "code",
   "execution_count": 65,
   "metadata": {},
   "outputs": [],
   "source": [
    "test_df1[\"incentives\"] = test_df1.apply(lambda x: cal_incentive(x[\"premium\"], x[\"renewal\"]), axis=1)"
   ]
  },
  {
   "cell_type": "code",
   "execution_count": null,
   "metadata": {},
   "outputs": [],
   "source": [
    "# test_df1[\"renewal\"].value_counts()"
   ]
  },
  {
   "cell_type": "code",
   "execution_count": 68,
   "metadata": {},
   "outputs": [
    {
     "data": {
      "text/plain": [
       "16823761.301665306"
      ]
     },
     "execution_count": 68,
     "metadata": {},
     "output_type": "execute_result"
    }
   ],
   "source": [
    "# sum(test_df1[\"incentives\"])"
   ]
  },
  {
   "cell_type": "code",
   "execution_count": 67,
   "metadata": {},
   "outputs": [
    {
     "data": {
      "text/plain": [
       "count    34224.000000\n",
       "mean       491.577878\n",
       "std        776.909615\n",
       "min          7.015014\n",
       "25%         97.568250\n",
       "50%        223.291773\n",
       "75%        559.413922\n",
       "max      12000.000000\n",
       "Name: incentives, dtype: float64"
      ]
     },
     "execution_count": 67,
     "metadata": {},
     "output_type": "execute_result"
    }
   ],
   "source": [
    "test_df1[\"incentives\"].describe()"
   ]
  },
  {
   "cell_type": "code",
   "execution_count": 48,
   "metadata": {},
   "outputs": [
    {
     "data": {
      "text/plain": [
       "count    34224.000000\n",
       "mean       206.079236\n",
       "std        500.749673\n",
       "min          5.616118\n",
       "25%         13.096467\n",
       "50%         28.275978\n",
       "75%         85.262627\n",
       "max       2680.788310\n",
       "Name: incentives1, dtype: float64"
      ]
     },
     "execution_count": 48,
     "metadata": {},
     "output_type": "execute_result"
    }
   ],
   "source": [
    "# test_df1[\"incentives1\"].describe()"
   ]
  },
  {
   "cell_type": "code",
   "execution_count": 56,
   "metadata": {
    "collapsed": true
   },
   "outputs": [],
   "source": [
    "# test_df1[\"incentives\"] = test_df1[\"incentives1\"] "
   ]
  },
  {
   "cell_type": "code",
   "execution_count": 76,
   "metadata": {},
   "outputs": [],
   "source": [
    "test_df1[\"incentives\"] = test_df1[\"incentives\"].apply(lambda x: 100 if x > 100 else x)"
   ]
  },
  {
   "cell_type": "code",
   "execution_count": 77,
   "metadata": {},
   "outputs": [
    {
     "data": {
      "text/plain": [
       "3039271.4862525463"
      ]
     },
     "execution_count": 77,
     "metadata": {},
     "output_type": "execute_result"
    }
   ],
   "source": [
    "sum(test_df1[\"incentives\"])"
   ]
  },
  {
   "cell_type": "code",
   "execution_count": 78,
   "metadata": {},
   "outputs": [
    {
     "data": {
      "text/plain": [
       "count    34224.000000\n",
       "mean        88.805268\n",
       "std         23.077639\n",
       "min          7.015014\n",
       "25%         97.568250\n",
       "50%        100.000000\n",
       "75%        100.000000\n",
       "max        100.000000\n",
       "Name: incentives, dtype: float64"
      ]
     },
     "execution_count": 78,
     "metadata": {},
     "output_type": "execute_result"
    }
   ],
   "source": [
    "test_df1[\"incentives\"].describe()"
   ]
  },
  {
   "cell_type": "code",
   "execution_count": 80,
   "metadata": {},
   "outputs": [],
   "source": [
    "test_df1[[\"id\", \"renewal\", \"incentives\"]].to_csv(\"submission_july_23_9.csv\", index=False)"
   ]
  },
  {
   "cell_type": "code",
   "execution_count": 74,
   "metadata": {
    "collapsed": true
   },
   "outputs": [],
   "source": [
    "sub_df = pd.read_csv(\"submission_july_23_8.csv\")"
   ]
  },
  {
   "cell_type": "code",
   "execution_count": 75,
   "metadata": {},
   "outputs": [
    {
     "data": {
      "text/plain": [
       "12345137.544122923"
      ]
     },
     "execution_count": 75,
     "metadata": {},
     "output_type": "execute_result"
    }
   ],
   "source": [
    "sum(sub_df[\"incentives\"])"
   ]
  },
  {
   "cell_type": "code",
   "execution_count": null,
   "metadata": {
    "collapsed": true
   },
   "outputs": [],
   "source": []
  }
 ],
 "metadata": {
  "kernelspec": {
   "display_name": "Python 2",
   "language": "python",
   "name": "python2"
  },
  "language_info": {
   "codemirror_mode": {
    "name": "ipython",
    "version": 2
   },
   "file_extension": ".py",
   "mimetype": "text/x-python",
   "name": "python",
   "nbconvert_exporter": "python",
   "pygments_lexer": "ipython2",
   "version": "2.7.15"
  }
 },
 "nbformat": 4,
 "nbformat_minor": 2
}
